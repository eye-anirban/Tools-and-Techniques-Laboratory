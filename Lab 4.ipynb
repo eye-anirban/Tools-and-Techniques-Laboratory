{
 "cells": [
  {
   "cell_type": "code",
   "execution_count": 1,
   "id": "c73db3da",
   "metadata": {},
   "outputs": [
    {
     "name": "stdout",
     "output_type": "stream",
     "text": [
      "Second Largest Element in list is  8\n",
      "Second Smallest Element in list is  2\n"
     ]
    }
   ],
   "source": [
    "# Q1 . WAP to find 2nd largest and 2nd smallest element from a list .\n",
    "\n",
    "list = [ 2 , 9 , 5 , 7 , 4 , 3 , 1 , 8 ]\n",
    "list.remove(max(list))\n",
    "list.remove(min(list))\n",
    "print(\"Second Largest Element in list is \", max(list))\n",
    "print(\"Second Smallest Element in list is \", min(list))"
   ]
  },
  {
   "cell_type": "code",
   "execution_count": 2,
   "id": "838ddf7c",
   "metadata": {},
   "outputs": [
    {
     "name": "stdout",
     "output_type": "stream",
     "text": [
      "List after removing Duplicates :  [3, 5, 6, 'Hello', 'Bye']\n"
     ]
    }
   ],
   "source": [
    "# Q2 . WAP to remove all duplicates from a list .\n",
    "\n",
    "list1 = [ 3 , 5 , 6 , 3 , 6 , 'Hello' , 'Bye' ]\n",
    "list2 = [ ]\n",
    "for i in list1:\n",
    "    if i not in list2:\n",
    "        list2.append(i)\n",
    "\n",
    "print(\"List after removing Duplicates : \",list2)"
   ]
  },
  {
   "cell_type": "code",
   "execution_count": 3,
   "id": "036391b3",
   "metadata": {},
   "outputs": [
    {
     "name": "stdout",
     "output_type": "stream",
     "text": [
      "Element 6 is present at index :  2\n"
     ]
    }
   ],
   "source": [
    "# Q3 . WAP to find out the index of an element in a specified list .\n",
    "\n",
    "list1 = [ 3 , 5 , 6 , 'Hello' , 'Bye' ]\n",
    "\n",
    "print(\"Element 6 is present at index : \", list1.index(6))"
   ]
  },
  {
   "cell_type": "code",
   "execution_count": 4,
   "id": "ad74cd97",
   "metadata": {},
   "outputs": [
    {
     "name": "stdout",
     "output_type": "stream",
     "text": [
      "Concatenated list :  [3, 5, 6, 3, 6, 'Hello', 'Bye', 2, 9, 5, 7, 4, 3, 1, 8]\n"
     ]
    }
   ],
   "source": [
    "# Q4 . WAP to append a list to another list .\n",
    "\n",
    "list1 = [ 3 , 5 , 6 , 3 , 6 , 'Hello' , 'Bye' ]\n",
    "list2 = [ 2 , 9 , 5 , 7 , 4 , 3 , 1 , 8 ]\n",
    "\n",
    "print(\"Concatenated list : \", list1 + list2)"
   ]
  },
  {
   "cell_type": "code",
   "execution_count": 5,
   "id": "b9cfd77e",
   "metadata": {},
   "outputs": [
    {
     "name": "stdout",
     "output_type": "stream",
     "text": [
      "Enter the index to be swapped : 4\n",
      "Updated List :  [3, 5, 6, 3, 'Hello', 6, 'Bye']\n"
     ]
    }
   ],
   "source": [
    "# Q5 . WAP to exchange nth element with n+1 th element in the list .\n",
    "\n",
    "list = [ 3 , 5 , 6 , 3 , 6 , 'Hello' , 'Bye' ]\n",
    "n = int(input(\"Enter the index to be swapped : \"))\n",
    "\n",
    "temp = list[n]\n",
    "list[n] = list[n+1]\n",
    "list[n+1] = temp\n",
    "\n",
    "print(\"Updated List : \", list)"
   ]
  },
  {
   "cell_type": "code",
   "execution_count": 6,
   "id": "c95ad757",
   "metadata": {},
   "outputs": [
    {
     "name": "stdout",
     "output_type": "stream",
     "text": [
      "Enter the index to be removed : 5\n",
      "Updated List :  [3, 5, 6, 3, 6, 'Bye']\n"
     ]
    }
   ],
   "source": [
    "# Q6 . WAP to remove the kth element and print the updated list .\n",
    "\n",
    "list = [ 3 , 5 , 6 , 3 , 6 , 'Hello' , 'Bye' ]\n",
    "n = int(input(\"Enter the index to be removed : \"))\n",
    "\n",
    "list.remove(list[n])\n",
    "print(\"Updated List : \", list)"
   ]
  },
  {
   "cell_type": "code",
   "execution_count": 7,
   "id": "fb95e1f6",
   "metadata": {},
   "outputs": [
    {
     "name": "stdout",
     "output_type": "stream",
     "text": [
      "Updated List :  [3, 5, 3, 6, 'Hello']\n"
     ]
    }
   ],
   "source": [
    "# Q7 . WAP to print a specified list after removing 2nd and 5th index element .\n",
    "\n",
    "list = [ 3 , 5 , 6 , 3 , 6 , 'Hello' , 'Bye' ]\n",
    "list.remove(list[2])\n",
    "list.remove(list[5])\n",
    "print(\"Updated List : \", list)"
   ]
  },
  {
   "cell_type": "code",
   "execution_count": 8,
   "id": "60e706ab",
   "metadata": {},
   "outputs": [
    {
     "name": "stdout",
     "output_type": "stream",
     "text": [
      "Tuple is :  (3, 5, 6, 3, 6, 'Hello', 'Bye')\n"
     ]
    }
   ],
   "source": [
    "# Q8 . WAP to convert a list to a tuple .\n",
    "\n",
    "list = [ 3 , 5 , 6 , 3 , 6 , 'Hello' , 'Bye' ]\n",
    "tuple = tuple(list)\n",
    "print(\"Tuple is : \", tuple)"
   ]
  },
  {
   "cell_type": "code",
   "execution_count": 9,
   "id": "37d2c22a",
   "metadata": {},
   "outputs": [
    {
     "name": "stdout",
     "output_type": "stream",
     "text": [
      "Product of the elements in tuple is :  5040\n"
     ]
    }
   ],
   "source": [
    "# Q9 . WAP to find out multiplication of all elements present in a tuple .\n",
    "\n",
    "tuple = ( 5 , 6 , 7 , 3 , 8 )\n",
    "mul = 1\n",
    "for i in tuple :\n",
    "    mul = mul * i\n",
    "    \n",
    "print(\"Product of the elements in tuple is : \", mul)"
   ]
  },
  {
   "cell_type": "code",
   "execution_count": 10,
   "id": "4129cd53",
   "metadata": {},
   "outputs": [
    {
     "ename": "TypeError",
     "evalue": "'tuple' object is not callable",
     "output_type": "error",
     "traceback": [
      "\u001b[1;31m---------------------------------------------------------------------------\u001b[0m",
      "\u001b[1;31mTypeError\u001b[0m                                 Traceback (most recent call last)",
      "\u001b[1;32m~\\AppData\\Local\\Temp\\ipykernel_11424\\3095842643.py\u001b[0m in \u001b[0;36m<module>\u001b[1;34m\u001b[0m\n\u001b[0;32m      3\u001b[0m \u001b[0mtuple1\u001b[0m \u001b[1;33m=\u001b[0m \u001b[1;33m(\u001b[0m\u001b[1;34m'1'\u001b[0m\u001b[1;33m,\u001b[0m \u001b[1;34m'4'\u001b[0m\u001b[1;33m,\u001b[0m \u001b[1;34m'3'\u001b[0m\u001b[1;33m,\u001b[0m \u001b[1;34m'6'\u001b[0m\u001b[1;33m,\u001b[0m \u001b[1;34m'7'\u001b[0m\u001b[1;33m)\u001b[0m \u001b[1;31m# Working in PyCharm not in Notebook\u001b[0m\u001b[1;33m\u001b[0m\u001b[1;33m\u001b[0m\u001b[0m\n\u001b[0;32m      4\u001b[0m \u001b[0mx\u001b[0m\u001b[1;33m=\u001b[0m\u001b[1;33m[\u001b[0m\u001b[0mint\u001b[0m\u001b[1;33m(\u001b[0m\u001b[0mi\u001b[0m\u001b[1;33m)\u001b[0m \u001b[1;32mfor\u001b[0m \u001b[0mi\u001b[0m \u001b[1;32min\u001b[0m \u001b[0mtuple1\u001b[0m\u001b[1;33m]\u001b[0m\u001b[1;33m\u001b[0m\u001b[1;33m\u001b[0m\u001b[0m\n\u001b[1;32m----> 5\u001b[1;33m \u001b[0mprint\u001b[0m\u001b[1;33m(\u001b[0m\u001b[0mtuple\u001b[0m\u001b[1;33m(\u001b[0m\u001b[0mx\u001b[0m\u001b[1;33m)\u001b[0m\u001b[1;33m)\u001b[0m\u001b[1;33m\u001b[0m\u001b[1;33m\u001b[0m\u001b[0m\n\u001b[0m",
      "\u001b[1;31mTypeError\u001b[0m: 'tuple' object is not callable"
     ]
    }
   ],
   "source": [
    "# Q10 . WAP to convert a tuple of string values to integer values . \n",
    "\n",
    "tuple1 = ('1', '4', '3', '6', '7') # Working in PyCharm not in Notebook\n",
    "x=[int(i) for i in tuple1]\n",
    "print(tuple(x))"
   ]
  },
  {
   "cell_type": "code",
   "execution_count": 11,
   "id": "ff0d046e",
   "metadata": {},
   "outputs": [
    {
     "name": "stdout",
     "output_type": "stream",
     "text": [
      "The frequency of 3 in the tuple is : 4\n"
     ]
    }
   ],
   "source": [
    "# Q11 . WAP to check the frequency of a specific element within a tuple .\n",
    "\n",
    "tuple = ( 3 , 5 , 3 , 3 , 6 , 'Hello' , 'Bye' , 3 )\n",
    "print(\"The frequency of 3 in the tuple is :\",tuple.count(3))"
   ]
  },
  {
   "cell_type": "code",
   "execution_count": 12,
   "id": "edbfc89f",
   "metadata": {},
   "outputs": [
    {
     "name": "stdout",
     "output_type": "stream",
     "text": [
      "Element of the nested tuple are : (6, 7, 8)\n",
      "Element of the nested list are : [6, 0, 5]\n"
     ]
    }
   ],
   "source": [
    "# Q12 . WAP to create a tuple with nested tuple or list and access and print the element of the nested tuple and list .\n",
    "\n",
    "tup = ( 2 , 4 , ( 6 , 7 , 8 ) , 5 , [ 6 , 0 , 5 ] , \"Bye\" , \"Hi\" )\n",
    "print(\"Element of the nested tuple are :\", tup[2])\n",
    "print(\"Element of the nested list are :\", tup[4])"
   ]
  }
 ],
 "metadata": {
  "kernelspec": {
   "display_name": "Python 3 (ipykernel)",
   "language": "python",
   "name": "python3"
  },
  "language_info": {
   "codemirror_mode": {
    "name": "ipython",
    "version": 3
   },
   "file_extension": ".py",
   "mimetype": "text/x-python",
   "name": "python",
   "nbconvert_exporter": "python",
   "pygments_lexer": "ipython3",
   "version": "3.9.13"
  }
 },
 "nbformat": 4,
 "nbformat_minor": 5
}
