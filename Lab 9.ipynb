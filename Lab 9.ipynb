{
 "cells": [
  {
   "cell_type": "code",
   "execution_count": 1,
   "id": "98f0790c",
   "metadata": {},
   "outputs": [
    {
     "name": "stdout",
     "output_type": "stream",
     "text": [
      "Popped item : 30\n",
      "STACK :\n",
      "40\n",
      "20\n",
      "10\n"
     ]
    }
   ],
   "source": [
    "# WAP with OOP concept to implement a user defined stack data structure , then perform the push and pop method with a set\n",
    "# of elements .\n",
    "\n",
    "class Stack:\n",
    "    def __init__(self):\n",
    "        self.items = []\n",
    "\n",
    "    def push(self, item):\n",
    "        self.items.append(item)\n",
    "\n",
    "    def pop(self):\n",
    "        if not self.is_empty():\n",
    "            return self.items.pop()\n",
    "\n",
    "    def is_empty(self):\n",
    "        return len(self.items) == 0\n",
    "\n",
    "my_stack = Stack()\n",
    "\n",
    "my_stack.push(10)\n",
    "my_stack.push(20)\n",
    "my_stack.push(30)\n",
    "\n",
    "popped_item = my_stack.pop()\n",
    "print(\"Popped item :\" ,popped_item)\n",
    "\n",
    "my_stack.push(40)\n",
    "\n",
    "print(\"STACK :\")\n",
    "while not my_stack.is_empty():\n",
    "    print(my_stack.pop())\n"
   ]
  },
  {
   "cell_type": "code",
   "execution_count": 2,
   "id": "69638c99",
   "metadata": {},
   "outputs": [
    {
     "name": "stdout",
     "output_type": "stream",
     "text": [
      "Is Empty : True\n",
      "CURRENT SIZE : 4\n",
      "1\n",
      "2\n",
      "NEW SIZE : 3\n",
      "3\n",
      "4\n",
      "5\n",
      "Is Empty : True\n"
     ]
    }
   ],
   "source": [
    "# WAP with OOP concept to implement a user defined queue data structure , then perform insert and remove methods with a set \n",
    "# of elements .\n",
    "\n",
    "class Queue:\n",
    "    def __init__(self):\n",
    "        self.items = []\n",
    "\n",
    "    def is_empty(self):\n",
    "        return self.items == []\n",
    "\n",
    "    def enqueue(self, item):\n",
    "        self.items.append(item)\n",
    "\n",
    "    def dequeue(self):\n",
    "        if not self.is_empty():\n",
    "            return self.items.pop(0)\n",
    "\n",
    "    def size(self):\n",
    "        return len(self.items)\n",
    "\n",
    "q = Queue()\n",
    "print(\"Is Empty :\", q.is_empty())  # True\n",
    "\n",
    "q.enqueue(1)\n",
    "q.enqueue(2)\n",
    "q.enqueue(3)\n",
    "q.enqueue(4)\n",
    "\n",
    "print(\"CURRENT SIZE :\", q.size())\n",
    "print(q.dequeue())\n",
    "print(q.dequeue())\n",
    "\n",
    "q.enqueue(5)\n",
    "\n",
    "print(\"NEW SIZE :\",q.size())\n",
    "print(q.dequeue())\n",
    "print(q.dequeue())\n",
    "print(q.dequeue())\n",
    "\n",
    "print(\"Is Empty :\", q.is_empty())\n"
   ]
  }
 ],
 "metadata": {
  "kernelspec": {
   "display_name": "Python 3 (ipykernel)",
   "language": "python",
   "name": "python3"
  },
  "language_info": {
   "codemirror_mode": {
    "name": "ipython",
    "version": 3
   },
   "file_extension": ".py",
   "mimetype": "text/x-python",
   "name": "python",
   "nbconvert_exporter": "python",
   "pygments_lexer": "ipython3",
   "version": "3.10.7"
  }
 },
 "nbformat": 4,
 "nbformat_minor": 5
}
