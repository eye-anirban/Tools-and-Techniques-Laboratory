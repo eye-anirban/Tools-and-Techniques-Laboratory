{
 "cells": [
  {
   "cell_type": "code",
   "execution_count": 1,
   "id": "d21a9974",
   "metadata": {},
   "outputs": [
    {
     "name": "stdout",
     "output_type": "stream",
     "text": [
      "Simple Interest =  1500.0\n"
     ]
    }
   ],
   "source": [
    "# 1. WAP to calculate simple interest of the given P , T , R using function where the function takes default value for R .\n",
    "\n",
    "def si( p , t , r = 5 ) :\n",
    "    print( \"Simple Interest = \", p*t*r/100 )\n",
    "\n",
    "si(5000,6)"
   ]
  },
  {
   "cell_type": "code",
   "execution_count": 3,
   "id": "e90126bb",
   "metadata": {},
   "outputs": [
    {
     "name": "stdout",
     "output_type": "stream",
     "text": [
      "Updated List : [8, 10, 21, 7]\n"
     ]
    }
   ],
   "source": [
    "# 2. WAP to pass a list to a function , now function adds 3 to each element of the list and print the updated list in the \n",
    "#    function call .\n",
    "\n",
    "def add3( a ) :\n",
    "    b = []\n",
    "    for i in a :\n",
    "        i = i + 3\n",
    "        b.append(i)\n",
    "    print( \"Updated List :\", b )\n",
    "    \n",
    "list1 = [ 5 , 7 , 18 , 4 ]\n",
    "add3(list1)"
   ]
  },
  {
   "cell_type": "code",
   "execution_count": 8,
   "id": "d66a783d",
   "metadata": {},
   "outputs": [
    {
     "name": "stdout",
     "output_type": "stream",
     "text": [
      "1 2 3 4 5 6 7 8 "
     ]
    }
   ],
   "source": [
    "# 3. WAP to pass a number to a function , then print 1 , 2 , 3 upto n using recursion .\n",
    "\n",
    "def rec( n ) :\n",
    "    if ( n == 1 ) :\n",
    "        print(1 , end = ' ')\n",
    "    else :\n",
    "        rec ( n - 1 )\n",
    "        print(n , end = ' ')\n",
    "\n",
    "rec(8)"
   ]
  },
  {
   "cell_type": "code",
   "execution_count": 11,
   "id": "3a2a40d7",
   "metadata": {},
   "outputs": [
    {
     "name": "stdout",
     "output_type": "stream",
     "text": [
      "Enter Number :10\n",
      "10 X 1 = 10\n",
      "10 X 2 = 20\n",
      "10 X 3 = 30\n",
      "10 X 4 = 40\n",
      "10 X 5 = 50\n",
      "10 X 6 = 60\n",
      "10 X 7 = 70\n",
      "10 X 8 = 80\n",
      "10 X 9 = 90\n",
      "10 X 10 = 100\n"
     ]
    }
   ],
   "source": [
    "# 4. WAP to generate a multiplication table of any number using lambda function .\n",
    "\n",
    "s = lambda x, y : x*y\n",
    "x = int(input(\"Enter Number :\"))\n",
    "\n",
    "for y in range(1,11) :\n",
    "    print( x , \"X\" , y , \"=\" , s(x,y) )"
   ]
  },
  {
   "cell_type": "code",
   "execution_count": 15,
   "id": "9e89e531",
   "metadata": {},
   "outputs": [
    {
     "name": "stdout",
     "output_type": "stream",
     "text": [
      "Anirban\n"
     ]
    }
   ],
   "source": [
    "# 5. WAP to define a function with an argument which can take 'n' number of keyword arguments .\n",
    "\n",
    "def fun(**a) :\n",
    "    print(a[\"Name\"])\n",
    "\n",
    "fun( Roll = 643 , Name = \"Anirban\" )"
   ]
  }
 ],
 "metadata": {
  "kernelspec": {
   "display_name": "Python 3 (ipykernel)",
   "language": "python",
   "name": "python3"
  },
  "language_info": {
   "codemirror_mode": {
    "name": "ipython",
    "version": 3
   },
   "file_extension": ".py",
   "mimetype": "text/x-python",
   "name": "python",
   "nbconvert_exporter": "python",
   "pygments_lexer": "ipython3",
   "version": "3.9.13"
  }
 },
 "nbformat": 4,
 "nbformat_minor": 5
}
