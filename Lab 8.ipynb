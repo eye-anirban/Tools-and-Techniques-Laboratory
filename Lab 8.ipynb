{
 "cells": [
  {
   "cell_type": "code",
   "execution_count": 4,
   "id": "17062255",
   "metadata": {},
   "outputs": [
    {
     "name": "stdout",
     "output_type": "stream",
     "text": [
      "Bank - Punjab National Bank\n",
      "Customer - Anirban Hazra\n"
     ]
    }
   ],
   "source": [
    "# Q1 . Single Inheritance \n",
    "\n",
    "class Bank:\n",
    "    def disp1(self):\n",
    "        print(\"Bank - Punjab National Bank\")\n",
    "class Customer(Bank):\n",
    "    def disp2(self):\n",
    "        print(\"Customer - Anirban Hazra\")\n",
    "\n",
    "ob = Customer()\n",
    "ob.disp1()\n",
    "ob.disp2()"
   ]
  },
  {
   "cell_type": "code",
   "execution_count": 6,
   "id": "a0acc40a",
   "metadata": {},
   "outputs": [
    {
     "name": "stdout",
     "output_type": "stream",
     "text": [
      "Factory Grandparent Class\n",
      "Wholesale Parent Class\n",
      "Retailer Child Class\n"
     ]
    }
   ],
   "source": [
    "# Q2 . Multilevel Inheritance\n",
    "\n",
    "class Factory:\n",
    "    def disp1(self):\n",
    "        print(\"Factory Grandparent Class\")\n",
    "class Wholesale(Factory):\n",
    "    def disp2(self):\n",
    "        print(\"Wholesale Parent Class\")\n",
    "class Retailer(Wholesale):\n",
    "    def disp3(self):\n",
    "        print(\"Retailer Child Class\")\n",
    "\n",
    "ob = Retailer()\n",
    "ob.disp1()\n",
    "ob.disp2()\n",
    "ob.disp3()"
   ]
  },
  {
   "cell_type": "code",
   "execution_count": 7,
   "id": "f3832c45",
   "metadata": {},
   "outputs": [
    {
     "name": "stdout",
     "output_type": "stream",
     "text": [
      "Registration Number : 1368\n",
      "Roll Number : 643\n",
      "Name : Anirban\n"
     ]
    }
   ],
   "source": [
    "# Q3 . Multiple Inheritance\n",
    "\n",
    "class University:\n",
    "    def __init__(self , reg):\n",
    "        self.reg = reg\n",
    "class School:\n",
    "    def __init__(self , roll , name):\n",
    "        self.roll = roll\n",
    "        self.name = name\n",
    "class Student(University,School):\n",
    "    def __init__(self , reg , roll , name):\n",
    "        University.__init__(self , reg)\n",
    "        School.__init__(self , roll , name)\n",
    "    def display(self):\n",
    "        print(\"Registration Number :\", self.reg)\n",
    "        print(\"Roll Number :\", self.roll)\n",
    "        print(\"Name :\", self.name)\n",
    "\n",
    "ob = Student(1368 , 643 , \"Anirban\" )\n",
    "ob.display()"
   ]
  },
  {
   "cell_type": "code",
   "execution_count": 8,
   "id": "e50218d2",
   "metadata": {},
   "outputs": [
    {
     "name": "stdout",
     "output_type": "stream",
     "text": [
      "Regular Employee ID: EMP001\n",
      "Regular Employee Name: John\n",
      "Regular Employee Age: 30\n",
      "Regular Employee Basic Salary: 20000\n",
      "Regular Employee DA: 5000\n",
      "Regular Employee TA: 3000\n",
      "Regular Employee Gross Salary: 28000\n",
      "Daily Worker ID: EMP002\n",
      "Daily Worker Name: Jane\n",
      "Daily Worker Age: 25\n",
      "Daily Worker No of Days: 20\n",
      "Daily Worker Wages per Day: 1000\n",
      "Daily Worker Total Salary: 20000\n"
     ]
    }
   ],
   "source": [
    "# Q4 . Heirarchical Inheritance\n",
    "\n",
    "class Employee:\n",
    "    def __init__(self, empid, age, name):\n",
    "        self.empid = empid\n",
    "        self.age = age\n",
    "        self.name = name\n",
    "\n",
    "class RegularEmployee(Employee):\n",
    "    def __init__(self, empid, age, name, basic, da, ta):\n",
    "        super().__init__(empid, age, name)\n",
    "        self.basic = basic\n",
    "        self.da = da\n",
    "        self.ta = ta\n",
    "        self.gross = basic + da + ta\n",
    "\n",
    "    def display(self):\n",
    "        print(\"Regular Employee ID:\", self.empid)\n",
    "        print(\"Regular Employee Name:\", self.name)\n",
    "        print(\"Regular Employee Age:\", self.age)\n",
    "        print(\"Regular Employee Basic Salary:\", self.basic)\n",
    "        print(\"Regular Employee DA:\", self.da)\n",
    "        print(\"Regular Employee TA:\", self.ta)\n",
    "        print(\"Regular Employee Gross Salary:\", self.gross)\n",
    "\n",
    "class DailyWorker(Employee):\n",
    "    def __init__(self, empid, age, name, no_of_days, wages_per_day):\n",
    "        super().__init__(empid, age, name)\n",
    "        self.no_of_days = no_of_days\n",
    "        self.wages_per_day = wages_per_day\n",
    "        self.total_salary = no_of_days * wages_per_day\n",
    "\n",
    "    def display(self):\n",
    "        print(\"Daily Worker ID:\", self.empid)\n",
    "        print(\"Daily Worker Name:\", self.name)\n",
    "        print(\"Daily Worker Age:\", self.age)\n",
    "        print(\"Daily Worker No of Days:\", self.no_of_days)\n",
    "        print(\"Daily Worker Wages per Day:\", self.wages_per_day)\n",
    "        print(\"Daily Worker Total Salary:\", self.total_salary)\n",
    "\n",
    "emp1 = RegularEmployee('EMP001', 30, 'John', 20000, 5000, 3000)\n",
    "emp2 = DailyWorker('EMP002', 25, 'Jane', 20, 1000)\n",
    "\n",
    "emp1.display()\n",
    "emp2.display()"
   ]
  },
  {
   "cell_type": "code",
   "execution_count": 9,
   "id": "e0aaca92",
   "metadata": {},
   "outputs": [
    {
     "name": "stdout",
     "output_type": "stream",
     "text": [
      "Roll No: 101\n",
      "Name: John\n",
      "Exam Marks: 85\n",
      "Co-curricular Activity Score: 90\n"
     ]
    }
   ],
   "source": [
    "# Q5 . Hybrid Inheritance\n",
    "\n",
    "class Student:\n",
    "    def __init__(self, roll_no, name):\n",
    "        self.roll_no = roll_no\n",
    "        self.name = name\n",
    "\n",
    "class Exam(Student):\n",
    "    def __init__(self, roll_no, name, marks):\n",
    "        super().__init__(roll_no, name)\n",
    "        self.marks = marks\n",
    "\n",
    "class CocurricularActivity:\n",
    "    def __init__(self , score):\n",
    "        self.score = score\n",
    "\n",
    "class Result(Exam, CocurricularActivity):\n",
    "    def __init__(self, roll_no, name, marks, score):\n",
    "        Exam.__init__(self, roll_no, name, marks)\n",
    "        CocurricularActivity.__init__(self, score)\n",
    "\n",
    "    def display(self):\n",
    "        print(\"Roll No:\", self.roll_no)\n",
    "        print(\"Name:\", self.name)\n",
    "        print(\"Exam Marks:\", self.marks)\n",
    "        print(\"Co-curricular Activity Score:\", self.score)\n",
    "\n",
    "result1 = Result(101, \"John\", 85, 90)\n",
    "result1.display()"
   ]
  },
  {
   "cell_type": "code",
   "execution_count": 10,
   "id": "30a8bc88",
   "metadata": {},
   "outputs": [
    {
     "name": "stdout",
     "output_type": "stream",
     "text": [
      "Item with ID item001 added to inventory\n",
      "Item with ID item001 updated\n",
      "Item ID: item001\n",
      "Item Name: T-shirt XL\n",
      "Stock Count: 10\n",
      "Price: 25.0\n"
     ]
    }
   ],
   "source": [
    "# Q6 . Write a class Inventory with attributes like item_id , item_name , stock_count , price . Define suitable methods and\n",
    "#      constructors to perform operations like add_tem , update_item and check_details .\n",
    "\n",
    "class Inventory:\n",
    "    def __init__(self):\n",
    "        self.items = {}\n",
    "\n",
    "    def add_item(self, item_id, item_name, stock_count, price):\n",
    "        if item_id in self.items:\n",
    "            print(\"Error: Item with ID %s already exists\" % item_id)\n",
    "        else:\n",
    "            self.items[item_id] = {'item_name': item_name, 'stock_count': stock_count, 'price': price}\n",
    "            print(\"Item with ID %s added to inventory\" % item_id)\n",
    "\n",
    "    def update_item(self, item_id, item_name=None, stock_count=None, price=None):\n",
    "        if item_id not in self.items:\n",
    "            print(\"Error: Item with ID %s not found\" % item_id)\n",
    "        else:\n",
    "            if item_name is not None:\n",
    "                self.items[item_id]['item_name'] = item_name\n",
    "            if stock_count is not None:\n",
    "                self.items[item_id]['stock_count'] = stock_count\n",
    "            if price is not None:\n",
    "                self.items[item_id]['price'] = price\n",
    "            print(\"Item with ID %s updated\" % item_id)\n",
    "\n",
    "    def check_details(self, item_id):\n",
    "        if item_id not in self.items:\n",
    "            print(\"Error: Item with ID %s not found\" % item_id)\n",
    "        else:\n",
    "            print(\"Item ID: %s\" % item_id)\n",
    "            print(\"Item Name: %s\" % self.items[item_id]['item_name'])\n",
    "            print(\"Stock Count: %s\" % self.items[item_id]['stock_count'])\n",
    "            print(\"Price: %s\" % self.items[item_id]['price'])\n",
    "\n",
    "inventory = Inventory()\n",
    "inventory.add_item('item001', 'T-shirt', 10, 20.0)\n",
    "inventory.update_item('item001', item_name='T-shirt XL', price=25.0)\n",
    "inventory.check_details('item001')"
   ]
  },
  {
   "cell_type": "code",
   "execution_count": 3,
   "id": "ba44f6c5",
   "metadata": {},
   "outputs": [
    {
     "name": "stdout",
     "output_type": "stream",
     "text": [
      "True\n",
      "True\n"
     ]
    }
   ],
   "source": [
    "# Q7 . Write a class to check an instance belongs to a particular class or not and class is subclass or not .\n",
    "\n",
    "class A:\n",
    "    def disp1(self):\n",
    "        print(\"Base Class A\")\n",
    "class B(A):\n",
    "    def disp2(self):\n",
    "        print(\"Derived Class B\")\n",
    "\n",
    "ob=B()\n",
    "print(issubclass(B,A))\n",
    "print(isinstance(ob,B))"
   ]
  }
 ],
 "metadata": {
  "kernelspec": {
   "display_name": "Python 3 (ipykernel)",
   "language": "python",
   "name": "python3"
  },
  "language_info": {
   "codemirror_mode": {
    "name": "ipython",
    "version": 3
   },
   "file_extension": ".py",
   "mimetype": "text/x-python",
   "name": "python",
   "nbconvert_exporter": "python",
   "pygments_lexer": "ipython3",
   "version": "3.9.13"
  }
 },
 "nbformat": 4,
 "nbformat_minor": 5
}
