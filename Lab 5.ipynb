{
 "cells": [
  {
   "cell_type": "code",
   "execution_count": 1,
   "id": "bbb22a0f",
   "metadata": {},
   "outputs": [
    {
     "name": "stdout",
     "output_type": "stream",
     "text": [
      "Common Elements in the Sets are : {10, 6}\n"
     ]
    }
   ],
   "source": [
    "# Q1 . WAP to check if any common element is present in 2 sets or not .\n",
    "\n",
    "set1 = { 2 , 4 , 6 , 8 , 10 }\n",
    "set2 = { 1 , 3 , 6 , 7 , 10 }\n",
    "set3 = set1 & set2\n",
    "print(\"Common Elements in the Sets are :\", set3)"
   ]
  },
  {
   "cell_type": "code",
   "execution_count": 2,
   "id": "3ae203f1",
   "metadata": {},
   "outputs": [
    {
     "name": "stdout",
     "output_type": "stream",
     "text": [
      "Union of Sets : {1, 2, 3, 4, 6, 7, 8, 10}\n",
      "Intersection of Sets : {10, 6}\n",
      "Difference of Sets : {8, 2, 4}\n"
     ]
    }
   ],
   "source": [
    "# Q2 . WAP to perform union , intersection and set difference on 2 sets .\n",
    "\n",
    "set1 = { 2 , 4 , 6 , 8 , 10 }\n",
    "set2 = { 1 , 3 , 6 , 7 , 10 }\n",
    "print(\"Union of Sets :\",set1 | set2)\n",
    "print(\"Intersection of Sets :\",set1 & set2)\n",
    "print(\"Difference of Sets :\",set1 - set2)"
   ]
  },
  {
   "cell_type": "code",
   "execution_count": 3,
   "id": "05362501",
   "metadata": {},
   "outputs": [
    {
     "name": "stdout",
     "output_type": "stream",
     "text": [
      "Enter the number to be checked : 8\n",
      "True\n"
     ]
    }
   ],
   "source": [
    "# Q3 . WAP to check an entered value is present in the set or not .\n",
    "\n",
    "set1 = { 2 , 4 , 6 , 8 , 10 }\n",
    "n = int(input(\"Enter the number to be checked : \"))\n",
    "print(n in set1)"
   ]
  },
  {
   "cell_type": "code",
   "execution_count": 4,
   "id": "8a07874d",
   "metadata": {},
   "outputs": [
    {
     "name": "stdout",
     "output_type": "stream",
     "text": [
      "Enter the number to be checked : 10\n",
      "The pairs are : [{8, 2}, {4, 6}, {4, 6}, {8, 2}]\n"
     ]
    }
   ],
   "source": [
    "# Q4 . WAP that finds all pairs of elements in a list whose sum is equal to a given value .\n",
    "\n",
    "list1 = [ 2 , 4 , 6 , 8 , 10 ]\n",
    "pairs = []\n",
    "target = int(input(\"Enter the number to be checked : \"))\n",
    "for n in list1:\n",
    "    complement = target - n\n",
    "    if complement in list1:\n",
    "        pairs.append({n, complement})\n",
    "print(\"The pairs are :\",pairs)"
   ]
  },
  {
   "cell_type": "code",
   "execution_count": 5,
   "id": "e1e62fd2",
   "metadata": {},
   "outputs": [
    {
     "name": "stdout",
     "output_type": "stream",
     "text": [
      "Product is : 60\n"
     ]
    }
   ],
   "source": [
    "# Q5 . WAP to multiply all the elements present in a dictionary .\n",
    "\n",
    "dict = { 'value1': 5, 'value2': 4, 'value3': 3 }\n",
    "answer = 1\n",
    "for i in dict:\n",
    "    answer = answer*dict[i]\n",
    "print(\"Product is :\",answer)"
   ]
  },
  {
   "cell_type": "code",
   "execution_count": 6,
   "id": "35d675a0",
   "metadata": {},
   "outputs": [
    {
     "name": "stdout",
     "output_type": "stream",
     "text": [
      "Merged Dictionaries : {'x': 10, 'y': 8, 'a': 6, 'b': 4}\n"
     ]
    }
   ],
   "source": [
    "# Q6 . WAP to merge 2 dictionaries .\n",
    "\n",
    "dict1 = {'x': 10, 'y': 8}\n",
    "dict2 = {'a': 6, 'b': 4}\n",
    "dict3 = dict1 | dict2\n",
    "print(\"Merged Dictionaries :\", dict3)"
   ]
  },
  {
   "cell_type": "code",
   "execution_count": 7,
   "id": "6ca87c39",
   "metadata": {},
   "outputs": [
    {
     "name": "stdout",
     "output_type": "stream",
     "text": [
      "Sorted Dictionary : {'a': 6, 'b': 4, 'x': 10, 'y': 8}\n"
     ]
    }
   ],
   "source": [
    "# Q7 . WAP to sort a given dictionary by its key .\n",
    "\n",
    "Dict = {'x': 10, 'y': 8, 'a': 6, 'b': 4}\n",
    "Keys = list(Dict.keys())\n",
    "Keys.sort()\n",
    "sorted_dict = {i: Dict[i] for i in Keys} \n",
    "print(\"Sorted Dictionary :\",sorted_dict)"
   ]
  },
  {
   "cell_type": "code",
   "execution_count": 8,
   "id": "bad74355",
   "metadata": {},
   "outputs": [
    {
     "name": "stdout",
     "output_type": "stream",
     "text": [
      "List of Distinct Values : [10, 8, 6, 4, 5]\n"
     ]
    }
   ],
   "source": [
    "# Q8 . WAP to print all distinct values present in a dictionary .\n",
    "\n",
    "dict = {'x': 10, 'y': 8, 'a': 6, 'b': 4, 'c': 5, 'z': 8, 'm': 10}\n",
    "list = []\n",
    "for val in dict.values(): \n",
    "  if val in list: \n",
    "    continue \n",
    "  else:\n",
    "    list.append(val)\n",
    "\n",
    "print(\"List of Distinct Values :\",list)"
   ]
  },
  {
   "cell_type": "code",
   "execution_count": 9,
   "id": "825b3638",
   "metadata": {},
   "outputs": [
    {
     "name": "stdout",
     "output_type": "stream",
     "text": [
      "The converted list is : [['a', 1], ['b', 2], ['c', 3]]\n"
     ]
    }
   ],
   "source": [
    "# Q9 . WAP to convert a dictionary into a list of lists .\n",
    "\n",
    "dict = { 'a': [1] , 'b': [2] , 'c': [3] }\n",
    "res = []\n",
    "for key, val in dict.items():\n",
    "    res.append([key] + val)\n",
    "print(\"The converted list is : \" + str(res))"
   ]
  }
 ],
 "metadata": {
  "kernelspec": {
   "display_name": "Python 3 (ipykernel)",
   "language": "python",
   "name": "python3"
  },
  "language_info": {
   "codemirror_mode": {
    "name": "ipython",
    "version": 3
   },
   "file_extension": ".py",
   "mimetype": "text/x-python",
   "name": "python",
   "nbconvert_exporter": "python",
   "pygments_lexer": "ipython3",
   "version": "3.9.13"
  }
 },
 "nbformat": 4,
 "nbformat_minor": 5
}
