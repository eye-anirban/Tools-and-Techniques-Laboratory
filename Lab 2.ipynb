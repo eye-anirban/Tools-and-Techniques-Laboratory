{
 "cells": [
  {
   "cell_type": "code",
   "execution_count": 1,
   "id": "726d4246",
   "metadata": {},
   "outputs": [
    {
     "name": "stdout",
     "output_type": "stream",
     "text": [
      "Enter a 3 digit number : 343\n",
      "Number is Palindrome\n"
     ]
    }
   ],
   "source": [
    "#1 WAP to enter 3 digit number from keyboard and check if its palindrome or not without using any loop .\n",
    "\n",
    "y = int(input(\"Enter a 3 digit number : \"))\n",
    "if y//100 == y%10 :\n",
    "    print(\"Number is Palindrome\")\n",
    "else :\n",
    "    print(\"Number is not Palindrome\")"
   ]
  },
  {
   "cell_type": "code",
   "execution_count": 2,
   "id": "0f88e4f3",
   "metadata": {},
   "outputs": [
    {
     "name": "stdout",
     "output_type": "stream",
     "text": [
      "Enter Integer 1 : 123\n",
      "Enter Integer 2 : 234\n",
      "Enter Integer 3 : 89\n",
      "Enter Integer 4 : 567\n",
      "Integer 3 is smallest\n"
     ]
    }
   ],
   "source": [
    "#2 WAP to enter 5 integers from the keyboard and find out the smallest one using multiple if statement .\n",
    "\n",
    "a = int(input(\"Enter Integer 1 : \"))\n",
    "b = int(input(\"Enter Integer 2 : \"))\n",
    "c = int(input(\"Enter Integer 3 : \"))\n",
    "d = int(input(\"Enter Integer 4 : \"))\n",
    "\n",
    "if a<b and a<c and a<d :\n",
    "    print(\"Integer 1 is smallest\")\n",
    "if b<a and b<c and b<d :\n",
    "    print(\"Integer 2 is smallest\")\n",
    "if c<b and c<a and c<d :\n",
    "    print(\"Integer 3 is smallest\")\n",
    "if d<b and d<c and d<a :\n",
    "    print(\"Integer 4 is smallest\")"
   ]
  },
  {
   "cell_type": "code",
   "execution_count": 4,
   "id": "678071b9",
   "metadata": {},
   "outputs": [
    {
     "name": "stdout",
     "output_type": "stream",
     "text": [
      "Enter marks in DAA : 94\n",
      "Enter marks in SE : 90\n",
      "Enter marks in AI : 86\n",
      "Enter marks in BD : 90\n",
      "Total Marks :  360\n",
      "Percentage :  90.0\n",
      "O Grade\n"
     ]
    }
   ],
   "source": [
    "#3 WAP to enter the marks of a student in 4 subjects , then calculate the total mark and percentage , also assign the grade\n",
    "# as per the following criteria :\n",
    "# if percentage >=90 and <= 100 grade is O\n",
    "# if percentage >=80 and < 90 grade is E ...\n",
    "\n",
    "a = int(input(\"Enter marks in DAA : \"))\n",
    "b = int(input(\"Enter marks in SE : \"))\n",
    "c = int(input(\"Enter marks in AI : \"))\n",
    "d = int(input(\"Enter marks in BD : \"))\n",
    "f = a + b + c + d\n",
    "e = f/4\n",
    "print(\"Total Marks : \" , f)\n",
    "print(\"Percentage : \" , e)\n",
    "\n",
    "if e>=90 and e<=100 :\n",
    "    print(\"O Grade\")\n",
    "elif e>=80 and e<90 :\n",
    "    print(\"E Grade\")\n",
    "elif e>=70 and e<80 :\n",
    "    print(\"A Grade\")\n",
    "elif e>=60 and e<70 :\n",
    "    print(\"B Grade\")\n",
    "elif e>=50 and e<60 :\n",
    "    print(\"C Grade\")\n",
    "elif e>=40 and e<50 :\n",
    "    print(\"D Grade\")\n",
    "else :\n",
    "    print(\"F Grade - Fail\")"
   ]
  },
  {
   "cell_type": "code",
   "execution_count": 13,
   "id": "b8fe7fc3",
   "metadata": {},
   "outputs": [
    {
     "ename": "SyntaxError",
     "evalue": "invalid syntax (1473910908.py, line 12)",
     "output_type": "error",
     "traceback": [
      "\u001b[1;36m  File \u001b[1;32m\"C:\\Users\\KIIT\\AppData\\Local\\Temp\\ipykernel_41004\\1473910908.py\"\u001b[1;36m, line \u001b[1;32m12\u001b[0m\n\u001b[1;33m    match g:\u001b[0m\n\u001b[1;37m          ^\u001b[0m\n\u001b[1;31mSyntaxError\u001b[0m\u001b[1;31m:\u001b[0m invalid syntax\n"
     ]
    }
   ],
   "source": [
    "#4 Perform Q3 using the Switch Case (Match) Statement . (Not working in Notebook , use some other IDE like PyCharm)\n",
    "\n",
    "a = int(input(\"Enter marks in DAA : \"))\n",
    "b = int(input(\"Enter marks in SE : \"))\n",
    "c = int(input(\"Enter marks in AI : \"))\n",
    "d = int(input(\"Enter marks in BD : \"))\n",
    "f = a + b + c + d\n",
    "e = f/4\n",
    "g = e//10\n",
    "print(\"Total Marks : \", f)\n",
    "print(\"Percentage : \", e)\n",
    "\n",
    "match g:\n",
    "    case 10:\n",
    "        print(\"O Grade\")\n",
    "    case 9:\n",
    "        print(\"O Grade\")\n",
    "    case 8:\n",
    "        print(\"E Grade\")\n",
    "    case 7:\n",
    "        print(\"A Grade\")\n",
    "    case 6:\n",
    "        print(\"B Grade\")\n",
    "    case 5:\n",
    "        print(\"C Grade\")\n",
    "    case 4:\n",
    "        print(\"D Grade\")\n",
    "    case 3:\n",
    "        print(\"F Grade - Fail\")\n",
    "    case 2:\n",
    "        print(\"F Grade - Fail\")\n",
    "    case 1:\n",
    "        print(\"F Grade - Fail\")\n",
    "    case 0:\n",
    "        print(\"F Grade - Fail\")"
   ]
  },
  {
   "cell_type": "code",
   "execution_count": 14,
   "id": "60f25294",
   "metadata": {},
   "outputs": [
    {
     "name": "stdout",
     "output_type": "stream",
     "text": [
      "Enter a number : 6784\n",
      "Reversed Number: 4876\n"
     ]
    }
   ],
   "source": [
    "#5 WAP to enter a number from the keyboard and find out reverse of it .\n",
    "\n",
    "num = int(input(\"Enter a number : \"))\n",
    "rev = 0\n",
    "\n",
    "while num != 0:\n",
    "    digit = num % 10\n",
    "    rev = rev * 10 + digit\n",
    "    num //= 10\n",
    "\n",
    "print(\"Reversed Number: \" + str(rev))"
   ]
  },
  {
   "cell_type": "code",
   "execution_count": 15,
   "id": "898d0ec2",
   "metadata": {},
   "outputs": [
    {
     "name": "stdout",
     "output_type": "stream",
     "text": [
      "Enter any number: 28\n",
      "Number is Perfect number\n"
     ]
    }
   ],
   "source": [
    "#6 WAP to check the given number is perfect number or not . (6 , 28)\n",
    "\n",
    "num = int(input(\"Enter any number: \"))\n",
    "sum = 0\n",
    "for i in range(1, num):\n",
    "    if(num % i == 0):\n",
    "        sum = sum + i\n",
    "if (sum == num):\n",
    "    print(\"Number is Perfect number\")\n",
    "else:\n",
    "    print(\"Number is not Perfect number\")"
   ]
  },
  {
   "cell_type": "code",
   "execution_count": 16,
   "id": "259dee54",
   "metadata": {},
   "outputs": [
    {
     "name": "stdout",
     "output_type": "stream",
     "text": [
      "Enter a number: 407\n",
      "407 is an Armstrong Number\n"
     ]
    }
   ],
   "source": [
    "#7 WAP to check the given number is Armstrong number or not . (371 , 407)\n",
    "\n",
    "num = int(input(\"Enter a number: \"))\n",
    "sum = 0\n",
    "temp = num\n",
    "while temp > 0:\n",
    "   digit = temp % 10\n",
    "   sum += digit ** 3\n",
    "   temp //= 10\n",
    "if num == sum:\n",
    "   print(num,\"is an Armstrong Number\")\n",
    "else:\n",
    "   print(num,\"is not an Armstrong Number\")\n"
   ]
  },
  {
   "cell_type": "code",
   "execution_count": 17,
   "id": "3486467e",
   "metadata": {},
   "outputs": [
    {
     "name": "stdout",
     "output_type": "stream",
     "text": [
      "Enter a number: 12\n",
      "Fibonacci Series :  0 1 1 2 3 5 8 13 21 34 55 89 \n"
     ]
    }
   ],
   "source": [
    "#8 WAP to generate fibonacci series upto n terms .\n",
    "\n",
    "num = int(input(\"Enter a number: \"))\n",
    "n1, n2 = 0, 1\n",
    "print(\"Fibonacci Series : \", n1, n2, end=\" \")\n",
    "for i in range(2, num):\n",
    "    n3 = n1 + n2\n",
    "    n1 = n2\n",
    "    n2 = n3\n",
    "    print(n3, end=\" \")\n",
    "\n",
    "print()"
   ]
  },
  {
   "cell_type": "code",
   "execution_count": 23,
   "id": "d1f1a7c8",
   "metadata": {},
   "outputs": [
    {
     "name": "stdout",
     "output_type": "stream",
     "text": [
      "Enter a number: 4\n",
      "1 \n",
      "1 2 \n",
      "1 2 3 \n",
      "1 2 3 4 \n"
     ]
    }
   ],
   "source": [
    "#9 WAP to generate the following pattern . \n",
    "# 1\n",
    "# 1 2\n",
    "# 1 2 3 \n",
    "# 1 2 3 4\n",
    "\n",
    "num = int(input(\"Enter a number: \"))\n",
    "for i in range(1, num + 1):\n",
    "    for j in range(1, i + 1):\n",
    "        print(j, end=' ')\n",
    "    print('')"
   ]
  },
  {
   "cell_type": "code",
   "execution_count": 22,
   "id": "d1474ef5",
   "metadata": {},
   "outputs": [
    {
     "name": "stdout",
     "output_type": "stream",
     "text": [
      "Enter a number: 4\n",
      "1 \n",
      "2 3 \n",
      "4 5 6 \n",
      "7 8 9 10 \n"
     ]
    }
   ],
   "source": [
    "#10 WAP to generate the following pattern . \n",
    "# 1\n",
    "# 2 3\n",
    "# 4 5 6\n",
    "# 7 8 9 10\n",
    "\n",
    "num = int(input(\"Enter a number: \"))\n",
    "p = 1\n",
    "for i in range(1, num + 1):\n",
    "    for j in range(1, i + 1):\n",
    "        print(p, end=' ')\n",
    "        p = p + 1\n",
    "    print('')"
   ]
  }
 ],
 "metadata": {
  "kernelspec": {
   "display_name": "Python 3 (ipykernel)",
   "language": "python",
   "name": "python3"
  },
  "language_info": {
   "codemirror_mode": {
    "name": "ipython",
    "version": 3
   },
   "file_extension": ".py",
   "mimetype": "text/x-python",
   "name": "python",
   "nbconvert_exporter": "python",
   "pygments_lexer": "ipython3",
   "version": "3.9.13"
  }
 },
 "nbformat": 4,
 "nbformat_minor": 5
}
