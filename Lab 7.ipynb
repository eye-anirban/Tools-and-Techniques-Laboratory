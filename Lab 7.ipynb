{
 "cells": [
  {
   "cell_type": "code",
   "execution_count": 17,
   "id": "a3e26fe3",
   "metadata": {},
   "outputs": [
    {
     "name": "stdout",
     "output_type": "stream",
     "text": [
      "Area of the circle: 153.86\n",
      "Perimeter of the circle: 43.96\n"
     ]
    }
   ],
   "source": [
    "# Q1 . Write python class Circle with attribute radius and 2 method that will compute the area and perimeter of the circle .\n",
    "\n",
    "class Circle:\n",
    "    def __init__(self, radius):\n",
    "        self.radius = radius\n",
    "    \n",
    "    def area(self):\n",
    "        return 3.14 * (self.radius ** 2)\n",
    "    \n",
    "    def perimeter(self):\n",
    "        return 2 * 3.14 * self.radius\n",
    "\n",
    "my_circle = Circle(7)\n",
    "print(\"Area of the circle:\", my_circle.area())\n",
    "print(\"Perimeter of the circle:\", my_circle.perimeter())"
   ]
  },
  {
   "cell_type": "code",
   "execution_count": 3,
   "id": "48e7fe37",
   "metadata": {},
   "outputs": [
    {
     "name": "stdout",
     "output_type": "stream",
     "text": [
      "Name: Alice\n",
      "Age: 16\n",
      "Grade: 11th\n",
      "\n",
      "Name: Bob\n",
      "Age: 15\n",
      "Grade: 10th\n"
     ]
    }
   ],
   "source": [
    "# Q2 . Write a python class named student with 2 instances student1 and student2 . Declare suitable attributes and \n",
    "#      methods to initialize and display the values of the attributes .\n",
    "\n",
    "class Student:\n",
    "    def __init__(self, name, age, grade):\n",
    "        self.name = name\n",
    "        self.age = age\n",
    "        self.grade = grade\n",
    "    \n",
    "    def display(self):\n",
    "        print(\"Name:\", self.name)\n",
    "        print(\"Age:\", self.age)\n",
    "        print(\"Grade:\", self.grade)\n",
    "\n",
    "student1 = Student(\"Alice\", 16, \"11th\")\n",
    "student2 = Student(\"Bob\", 15, \"10th\")\n",
    "student1.display()\n",
    "print(\"\")\n",
    "student2.display()"
   ]
  },
  {
   "cell_type": "code",
   "execution_count": 5,
   "id": "4f69853a",
   "metadata": {},
   "outputs": [
    {
     "name": "stdout",
     "output_type": "stream",
     "text": [
      "-10 2 8\n",
      "-7 -3 10\n"
     ]
    }
   ],
   "source": [
    "# Q3 . Write a python class to find 3 elements whose sum is equal to 0 from a set or array of n real numbers . \n",
    "#      -25 , -10 , -7 , -3 , 2 , 4 , 8 , 10 .\n",
    "\n",
    "class FindTriplets:\n",
    "    def __init__(self, nums):\n",
    "        self.nums = nums\n",
    "    \n",
    "    def find_triplets(self):\n",
    "        n = len(self.nums)\n",
    "        found_triplets = False\n",
    "        \n",
    "        for i in range(n - 2):\n",
    "            for j in range(i + 1, n - 1):\n",
    "                for k in range(j + 1, n):\n",
    "                    if self.nums[i] + self.nums[j] + self.nums[k] == 0:\n",
    "                        print(self.nums[i], self.nums[j], self.nums[k])\n",
    "                        found_triplets = True\n",
    "        \n",
    "        if not found_triplets:\n",
    "            print(\"No triplets found with sum equal to 0\")\n",
    "\n",
    "nums = [-25 , -10 , -7 , -3 , 2 , 4 , 8 , 10]\n",
    "finder = FindTriplets(nums)\n",
    "finder.find_triplets()"
   ]
  },
  {
   "cell_type": "code",
   "execution_count": 6,
   "id": "47a7f251",
   "metadata": {},
   "outputs": [
    {
     "name": "stdout",
     "output_type": "stream",
     "text": [
      "you? are how world, Hello\n"
     ]
    }
   ],
   "source": [
    "# Q4 . Write a python class to reverse a string word by word .\n",
    "\n",
    "class ReverseWords:\n",
    "    def __init__(self, string):\n",
    "        self.string = string\n",
    "    \n",
    "    def reverse(self):\n",
    "        words = self.string.split()\n",
    "        reversed_words = words[::-1]\n",
    "        reversed_string = \" \".join(reversed_words)\n",
    "        return reversed_string\n",
    "\n",
    "my_string = \"Hello world, how are you?\"\n",
    "reverser = ReverseWords(my_string)\n",
    "reversed_string = reverser.reverse()\n",
    "print(reversed_string)"
   ]
  },
  {
   "cell_type": "code",
   "execution_count": 7,
   "id": "35474613",
   "metadata": {},
   "outputs": [
    {
     "name": "stdout",
     "output_type": "stream",
     "text": [
      "8\n"
     ]
    }
   ],
   "source": [
    "# Q5 . Write a python class to implement pow(x,n) .\n",
    "\n",
    "class Power:\n",
    "    def pow(self, x, n):\n",
    "        if n == 0:\n",
    "            return 1\n",
    "        elif n < 0:\n",
    "            return 1 / self.pow(x, -n)\n",
    "        elif n % 2 == 0:\n",
    "            return self.pow(x * x, n // 2)\n",
    "        else:\n",
    "            return x * self.pow(x, n - 1)\n",
    "\n",
    "power = Power()\n",
    "result = power.pow(2, 3)\n",
    "print(result)"
   ]
  },
  {
   "cell_type": "code",
   "execution_count": 10,
   "id": "9bbd12f9",
   "metadata": {},
   "outputs": [
    {
     "name": "stdout",
     "output_type": "stream",
     "text": [
      "[[], [1], [1, 2], [1, 2, 2], [2], [2, 2]]\n"
     ]
    }
   ],
   "source": [
    "# Q6 . Write a python class to print all possible unique subset from a set of integers .\n",
    "\n",
    "class SubsetGenerator:\n",
    "    def __init__(self, nums):\n",
    "        self.nums = nums\n",
    "        self.subsets = []\n",
    "    \n",
    "    def generate_subsets(self):\n",
    "        self._helper(0, [])\n",
    "        return self.subsets\n",
    "    \n",
    "    def _helper(self, index, subset):\n",
    "        self.subsets.append(subset)\n",
    "        for i in range(index, len(self.nums)):\n",
    "            if i > index and self.nums[i] == self.nums[i-1]:\n",
    "                continue\n",
    "            self._helper(i+1, subset + [self.nums[i]])\n",
    "\n",
    "nums = [1, 2, 2]\n",
    "subset_generator = SubsetGenerator(nums)\n",
    "subsets = subset_generator.generate_subsets()\n",
    "print(subsets)"
   ]
  },
  {
   "cell_type": "code",
   "execution_count": 18,
   "id": "47fc5c8a",
   "metadata": {},
   "outputs": [
    {
     "name": "stdout",
     "output_type": "stream",
     "text": [
      "Table 1 is booked at 7:00 PM.\n",
      "Table 2 is booked at 8:30 PM.\n",
      "Table 1 is already booked at 7:00 PM.\n",
      "\n",
      "Menu:\n",
      "Pizza: Rs. 10.99\n",
      "Burger: Rs. 8.99\n",
      "Salad: Rs. 6.99\n",
      "\n",
      "Booked Tables:\n",
      "Table 1: 7:00 PM\n",
      "Table 2: 8:30 PM\n",
      "\n",
      "Customer Orders:\n",
      "Table 1: ['Pizza', 'Salad', 'Pizza', 'Burger', 'Salad']\n",
      "Table 2: ['Burger']\n"
     ]
    }
   ],
   "source": [
    "# Q7 . Write a python class called restaurant with attributes like menu items , book table , customer order . Design  \n",
    "#      suitable methods to perform the following .\n",
    "#      1. Add items to the menu\n",
    "#      2. Make reservations \n",
    "#      3. Take customer orders .\n",
    "#      Also , print everything . Use dictionaries and lists to store data .\n",
    "\n",
    "class Restaurant:\n",
    "    def __init__(self):\n",
    "        self.menu_items = {}\n",
    "        self.booked_tables = {}\n",
    "        self.customer_orders = {}\n",
    "        \n",
    "    def add_menu_item(self, item_name, item_price):\n",
    "        self.menu_items[item_name] = item_price\n",
    "        \n",
    "    def make_reservation(self, table_number, reservation_time):\n",
    "        if table_number not in self.booked_tables:\n",
    "            self.booked_tables[table_number] = reservation_time\n",
    "            print(f\"Table {table_number} is booked at {reservation_time}.\")\n",
    "        else:\n",
    "            print(f\"Table {table_number} is already booked at {self.booked_tables[table_number]}.\")\n",
    "            \n",
    "    def take_customer_order(self, table_number, order_items):\n",
    "        if table_number not in self.customer_orders:\n",
    "            self.customer_orders[table_number] = order_items\n",
    "        else:\n",
    "            self.customer_orders[table_number] += order_items\n",
    "        \n",
    "    def print_menu(self):\n",
    "        print(\"\\nMenu:\")\n",
    "        for item_name, item_price in self.menu_items.items():\n",
    "            print(f\"{item_name}: Rs. {item_price}\")\n",
    "            \n",
    "    def print_booked_tables(self):\n",
    "        print(\"\\nBooked Tables:\")\n",
    "        for table_number, reservation_time in self.booked_tables.items():\n",
    "            print(f\"Table {table_number}: {reservation_time}\")\n",
    "    \n",
    "    def print_customer_orders(self):\n",
    "        print(\"\\nCustomer Orders:\")\n",
    "        for table_number, order_items in self.customer_orders.items():\n",
    "            print(f\"Table {table_number}: {order_items}\")\n",
    "\n",
    "restaurant = Restaurant()\n",
    "\n",
    "restaurant.add_menu_item(\"Pizza\", 10.99)\n",
    "restaurant.add_menu_item(\"Burger\", 8.99)\n",
    "restaurant.add_menu_item(\"Salad\", 6.99)\n",
    "\n",
    "restaurant.make_reservation(1, \"7:00 PM\")\n",
    "restaurant.make_reservation(2, \"8:30 PM\")\n",
    "restaurant.make_reservation(1, \"9:00 PM\")\n",
    "\n",
    "restaurant.take_customer_order(1, [\"Pizza\", \"Salad\"])\n",
    "restaurant.take_customer_order(2, [\"Burger\"])\n",
    "restaurant.take_customer_order(1, [\"Pizza\", \"Burger\", \"Salad\"])\n",
    "\n",
    "restaurant.print_menu()\n",
    "restaurant.print_booked_tables()\n",
    "restaurant.print_customer_orders()"
   ]
  },
  {
   "cell_type": "code",
   "execution_count": 19,
   "id": "d97d471b",
   "metadata": {},
   "outputs": [
    {
     "name": "stdout",
     "output_type": "stream",
     "text": [
      "Deposited Rs. 500.0 into account 1234-5678.\n",
      "Withdrew Rs. 200.0 from account 1234-5678.\n",
      "Insufficient balance in account 1234-5678.\n",
      "Balance of account 1234-5678 is Rs. 1300.0.\n"
     ]
    }
   ],
   "source": [
    "# Q8 . Write a python class called Bank Account with attributes like account number , balance , customer name and methods\n",
    "#      like deposit , withdraw and check balance , and also print the values .\n",
    "\n",
    "class BankAccount:\n",
    "    def __init__(self, account_number, balance, customer_name):\n",
    "        self.account_number = account_number\n",
    "        self.balance = balance\n",
    "        self.customer_name = customer_name\n",
    "        \n",
    "    def deposit(self, amount):\n",
    "        self.balance += amount\n",
    "        print(f\"Deposited Rs. {amount} into account {self.account_number}.\")\n",
    "        \n",
    "    def withdraw(self, amount):\n",
    "        if amount <= self.balance:\n",
    "            self.balance -= amount\n",
    "            print(f\"Withdrew Rs. {amount} from account {self.account_number}.\")\n",
    "        else:\n",
    "            print(f\"Insufficient balance in account {self.account_number}.\")\n",
    "            \n",
    "    def check_balance(self):\n",
    "        print(f\"Balance of account {self.account_number} is Rs. {self.balance}.\")\n",
    "\n",
    "bank_account = BankAccount(\"1234-5678\", 1000.0, \"John Doe\")\n",
    "\n",
    "bank_account.deposit(500.0)\n",
    "\n",
    "bank_account.withdraw(200.0)\n",
    "bank_account.withdraw(2000.0)\n",
    "\n",
    "bank_account.check_balance()"
   ]
  }
 ],
 "metadata": {
  "kernelspec": {
   "display_name": "Python 3 (ipykernel)",
   "language": "python",
   "name": "python3"
  },
  "language_info": {
   "codemirror_mode": {
    "name": "ipython",
    "version": 3
   },
   "file_extension": ".py",
   "mimetype": "text/x-python",
   "name": "python",
   "nbconvert_exporter": "python",
   "pygments_lexer": "ipython3",
   "version": "3.9.13"
  }
 },
 "nbformat": 4,
 "nbformat_minor": 5
}
