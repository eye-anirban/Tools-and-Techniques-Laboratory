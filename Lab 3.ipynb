{
 "cells": [
  {
   "cell_type": "code",
   "execution_count": 1,
   "id": "2ca39917",
   "metadata": {},
   "outputs": [
    {
     "name": "stdout",
     "output_type": "stream",
     "text": [
      "Enter the value of n : 20\n",
      "20 18 16 14 12 10 8 6 4 2 "
     ]
    }
   ],
   "source": [
    "# Q1 WAP to print the following number series n , n-2 , n-4 ...\n",
    "\n",
    "n = int(input(\"Enter the value of n : \"))\n",
    "for i in range (n , 0 , -2):\n",
    "    print(i , end=' ')"
   ]
  },
  {
   "cell_type": "code",
   "execution_count": 2,
   "id": "6d3305e7",
   "metadata": {},
   "outputs": [
    {
     "name": "stdout",
     "output_type": "stream",
     "text": [
      "Enter your string : Anirban\n",
      "String is Anirban\n",
      "Length of string is : 7\n"
     ]
    }
   ],
   "source": [
    "# Q2 WAP to enter a string and display it . Also find its length .\n",
    "\n",
    "s = input(\"Enter your string : \")\n",
    "print(\"String is\", (s))\n",
    "count = 0\n",
    "for i in s:\n",
    "    count += 1\n",
    "print(\"Length of string is :\", count)"
   ]
  },
  {
   "cell_type": "code",
   "execution_count": 3,
   "id": "561e5f50",
   "metadata": {},
   "outputs": [
    {
     "name": "stdout",
     "output_type": "stream",
     "text": [
      "Enter your string : Anirban\n",
      "Reversed string is : nabrinA\n"
     ]
    }
   ],
   "source": [
    "# Q3 WAP to input a string and display its reverse .\n",
    "\n",
    "s = input(\"Enter your string : \")\n",
    "rev = []\n",
    "count = 0\n",
    "for i in s:\n",
    "    count += 1\n",
    "rev = s[count::-1] \n",
    "print(\"Reversed string is :\", rev)"
   ]
  },
  {
   "cell_type": "code",
   "execution_count": 4,
   "id": "de87c5d8",
   "metadata": {},
   "outputs": [
    {
     "name": "stdout",
     "output_type": "stream",
     "text": [
      "Enter your string : malayalam\n",
      "Palindrome\n"
     ]
    }
   ],
   "source": [
    "# Q4 WAP to check the given string is palindrome or not .\n",
    "\n",
    "s = input(\"Enter your string : \")\n",
    "rev = []\n",
    "count = 0\n",
    "for i in s:\n",
    "    count += 1\n",
    "rev = s[count::-1]\n",
    "if rev == s :\n",
    "    print(\"Palindrome\")\n",
    "else :\n",
    "    print(\"Not Palindrome\")"
   ]
  },
  {
   "cell_type": "code",
   "execution_count": 5,
   "id": "841aa8d8",
   "metadata": {},
   "outputs": [
    {
     "name": "stdout",
     "output_type": "stream",
     "text": [
      "Enter your string : Anirban\n",
      "Substring from 0th index to 3rd index is : Anir\n"
     ]
    }
   ],
   "source": [
    "# Q5 WAP to retrieve a substring from a string .\n",
    "\n",
    "s = input(\"Enter your string : \")\n",
    "print(\"Substring from 0th index to 3rd index is :\", s[0:4])"
   ]
  },
  {
   "cell_type": "code",
   "execution_count": 6,
   "id": "093a5188",
   "metadata": {},
   "outputs": [
    {
     "name": "stdout",
     "output_type": "stream",
     "text": [
      "Enter your 1st string : Anirban \n",
      "Enter your 2nd string : Hazra\n",
      "Concatenated String is : Anirban Hazra\n"
     ]
    }
   ],
   "source": [
    "# Q6 WAP to input 2 strings and concatenate them , also repeat a particular string for n number of times .\n",
    "\n",
    "s = input(\"Enter your 1st string : \")\n",
    "p = input(\"Enter your 2nd string : \")\n",
    "\n",
    "print(\"Concatenated String is :\" , s+p)"
   ]
  },
  {
   "cell_type": "code",
   "execution_count": 7,
   "id": "bbcc555d",
   "metadata": {},
   "outputs": [
    {
     "name": "stdout",
     "output_type": "stream",
     "text": [
      "Enter your string : Anirban\n",
      "Enter your substring : nir\n",
      "True\n"
     ]
    }
   ],
   "source": [
    "# Q7 WAP to check a particular substring is available within a string or not also print the given string as it is .\n",
    "\n",
    "s = input(\"Enter your string : \")\n",
    "p = input(\"Enter your substring : \")\n",
    "print(p in s)"
   ]
  },
  {
   "cell_type": "code",
   "execution_count": 8,
   "id": "019b1bf9",
   "metadata": {},
   "outputs": [
    {
     "name": "stdout",
     "output_type": "stream",
     "text": [
      "Enter your x string : Anirban\n",
      "Enter your y string : Hazra\n",
      "Enter your z string : KIIT\n",
      "DataType of x and y is <class 'str'> <class 'str'>\n",
      "Address of x and y is 2000061447536 2000061461872\n"
     ]
    }
   ],
   "source": [
    "# Q8 WAP to input 3 strings and try to delete 1 of the strings . Also check the types of the string and the address \n",
    "# of the strings .\n",
    "\n",
    "x = input(\"Enter your x string : \")\n",
    "y = input(\"Enter your y string : \")\n",
    "z = input(\"Enter your z string : \")\n",
    "\n",
    "del(z)\n",
    "print(\"DataType of x and y is\", type(x),type(y))\n",
    "print(\"Address of x and y is\", id(x),id(y))"
   ]
  },
  {
   "cell_type": "code",
   "execution_count": 9,
   "id": "e728d77a",
   "metadata": {},
   "outputs": [
    {
     "name": "stdout",
     "output_type": "stream",
     "text": [
      "Single Quote : Who's this ?\n",
      "Double Quote : Hey , \"How are you\" ?\n",
      "Newline : Hello\n",
      "World !\n",
      "Backslash : This will insert one \\ (backslash) .\n",
      "Tab : Hello\tWorld !\n"
     ]
    }
   ],
   "source": [
    "# Q9 WAP to demonstrate the escape sequence characters .\n",
    "\n",
    "print(\"Single Quote : Who\\'s this ?\")\n",
    "print(\"Double Quote : Hey , \\\"How are you\\\" ?\")\n",
    "print(\"Newline : Hello\\nWorld !\")\n",
    "print(\"Backslash : This will insert one \\\\ (backslash) .\")\n",
    "print(\"Tab : Hello\\tWorld !\")"
   ]
  },
  {
   "cell_type": "code",
   "execution_count": 10,
   "id": "9de4bc39",
   "metadata": {},
   "outputs": [
    {
     "name": "stdout",
     "output_type": "stream",
     "text": [
      "Enter your string : AnirBan\n",
      "Uppercase : ANIRBAN\n",
      "Lowercase : anirban\n",
      "Title : Anirban\n",
      "Length : 7\n",
      "Count : 1\n",
      "Find : 5\n"
     ]
    }
   ],
   "source": [
    "#10 WAP to demonstrate the pre-defined string functions .\n",
    "\n",
    "s = input(\"Enter your string : \")\n",
    "\n",
    "print(\"Uppercase :\", s.upper())\n",
    "print(\"Lowercase :\", s.lower())\n",
    "print(\"Title :\", s.title())\n",
    "print(\"Length :\", len(s))\n",
    "print(\"Count :\", s.count(\"a\"))\n",
    "print(\"Find :\",s.find(\"a\"))"
   ]
  }
 ],
 "metadata": {
  "kernelspec": {
   "display_name": "Python 3 (ipykernel)",
   "language": "python",
   "name": "python3"
  },
  "language_info": {
   "codemirror_mode": {
    "name": "ipython",
    "version": 3
   },
   "file_extension": ".py",
   "mimetype": "text/x-python",
   "name": "python",
   "nbconvert_exporter": "python",
   "pygments_lexer": "ipython3",
   "version": "3.9.13"
  }
 },
 "nbformat": 4,
 "nbformat_minor": 5
}
