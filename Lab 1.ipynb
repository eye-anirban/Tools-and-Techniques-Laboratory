{
 "cells": [
  {
   "cell_type": "code",
   "execution_count": 2,
   "id": "c9ad6ed4",
   "metadata": {},
   "outputs": [
    {
     "name": "stdout",
     "output_type": "stream",
     "text": [
      "NAME    : ANIRBAN HAZRA\n",
      "ROLL    : 2005643\n",
      "SECTION : CSE 10\n"
     ]
    }
   ],
   "source": [
    "print(\"NAME    : ANIRBAN HAZRA\")\n",
    "print(\"ROLL    : 2005643\")\n",
    "print(\"SECTION : CSE 10\")"
   ]
  },
  {
   "cell_type": "code",
   "execution_count": 3,
   "id": "a54a4a52",
   "metadata": {
    "scrolled": true
   },
   "outputs": [
    {
     "name": "stdout",
     "output_type": "stream",
     "text": [
      "ADDITION             :  15\n",
      "SUBTRACTION          :  5\n",
      "MULTIPLICATION       :  50\n",
      "DIVISION             :  2.0\n",
      "MODULUS              :  0\n",
      "INTEGER DIVISION     :  2\n",
      "EXPONENTIATION       :  100000\n"
     ]
    }
   ],
   "source": [
    "a = 10\n",
    "b = 5\n",
    "\n",
    "print(\"ADDITION             : \" , a+b)\n",
    "print(\"SUBTRACTION          : \" , a-b)\n",
    "print(\"MULTIPLICATION       : \" , a*b)\n",
    "print(\"DIVISION             : \" , a/b)\n",
    "print(\"MODULUS              : \" , a%b)\n",
    "print(\"INTEGER DIVISION     : \" , a//b)\n",
    "print(\"EXPONENTIATION       : \" , a**b)"
   ]
  },
  {
   "cell_type": "code",
   "execution_count": 4,
   "id": "81faace7",
   "metadata": {
    "scrolled": true
   },
   "outputs": [
    {
     "name": "stdout",
     "output_type": "stream",
     "text": [
      "True\n",
      "False\n"
     ]
    }
   ],
   "source": [
    "a = 30\n",
    "b = 30\n",
    "\n",
    "print(a is b)\n",
    "\n",
    "b = 45\n",
    "\n",
    "print(a is b)"
   ]
  },
  {
   "cell_type": "code",
   "execution_count": 5,
   "id": "b72cf20d",
   "metadata": {},
   "outputs": [
    {
     "name": "stdout",
     "output_type": "stream",
     "text": [
      "['In', 'Out', '_', '__', '___', '__builtin__', '__builtins__', '__doc__', '__loader__', '__name__', '__package__', '__spec__', '_dh', '_i', '_i1', '_i2', '_i3', '_i4', '_i5', '_ih', '_ii', '_iii', '_oh', 'a', 'b', 'c', 'exit', 'get_ipython', 'quit']\n"
     ]
    }
   ],
   "source": [
    "a = 56\n",
    "b = 23\n",
    "c = 78\n",
    "print(dir())"
   ]
  },
  {
   "cell_type": "code",
   "execution_count": 6,
   "id": "8818244a",
   "metadata": {},
   "outputs": [
    {
     "name": "stdout",
     "output_type": "stream",
     "text": [
      "Sum of 1st digit and 3rd digit :  8\n"
     ]
    }
   ],
   "source": [
    "a = 345\n",
    "b = a//100\n",
    "c = a%10\n",
    "\n",
    "print( \"Sum of 1st digit and 3rd digit : \" , b + c )"
   ]
  },
  {
   "cell_type": "code",
   "execution_count": 7,
   "id": "47d76059",
   "metadata": {},
   "outputs": [
    {
     "name": "stdout",
     "output_type": "stream",
     "text": [
      "Reversed Number :  321\n"
     ]
    }
   ],
   "source": [
    "a = 123\n",
    "b = a%10\n",
    "a //= 10\n",
    "c = a%10\n",
    "a //= 10\n",
    "\n",
    "print(\"Reversed Number : \" , b*100 + c*10 + a)"
   ]
  },
  {
   "cell_type": "code",
   "execution_count": 9,
   "id": "de07ce3c",
   "metadata": {},
   "outputs": [
    {
     "name": "stdout",
     "output_type": "stream",
     "text": [
      "Before Deletion :  ['In', 'Out', '_', '__', '___', '__builtin__', '__builtins__', '__doc__', '__loader__', '__name__', '__package__', '__spec__', '_dh', '_i', '_i1', '_i2', '_i3', '_i4', '_i5', '_i6', '_i7', '_i8', '_i9', '_ih', '_ii', '_iii', '_oh', 'a', 'b', 'c', 'exit', 'get_ipython', 'quit']\n",
      "\n",
      "\n",
      "After Deletion :  ['In', 'Out', '_', '__', '___', '__builtin__', '__builtins__', '__doc__', '__loader__', '__name__', '__package__', '__spec__', '_dh', '_i', '_i1', '_i2', '_i3', '_i4', '_i5', '_i6', '_i7', '_i8', '_i9', '_ih', '_ii', '_iii', '_oh', 'b', 'c', 'exit', 'get_ipython', 'quit']\n"
     ]
    }
   ],
   "source": [
    "a = 10\n",
    "b = 20\n",
    "print(\"Before Deletion : \" , dir())\n",
    "del(a)\n",
    "print(\"\\n\\nAfter Deletion : \" , dir())"
   ]
  }
 ],
 "metadata": {
  "kernelspec": {
   "display_name": "Python 3 (ipykernel)",
   "language": "python",
   "name": "python3"
  },
  "language_info": {
   "codemirror_mode": {
    "name": "ipython",
    "version": 3
   },
   "file_extension": ".py",
   "mimetype": "text/x-python",
   "name": "python",
   "nbconvert_exporter": "python",
   "pygments_lexer": "ipython3",
   "version": "3.9.13"
  }
 },
 "nbformat": 4,
 "nbformat_minor": 5
}
